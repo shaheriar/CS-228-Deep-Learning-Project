{
  "nbformat": 4,
  "nbformat_minor": 0,
  "metadata": {
    "colab": {
      "provenance": [],
      "gpuType": "A100",
      "machine_shape": "hm",
      "include_colab_link": true
    },
    "kernelspec": {
      "name": "python3",
      "display_name": "Python 3"
    },
    "language_info": {
      "name": "python"
    },
    "accelerator": "GPU"
  },
  "cells": [
    {
      "cell_type": "markdown",
      "metadata": {
        "id": "view-in-github",
        "colab_type": "text"
      },
      "source": [
        "<a href=\"https://colab.research.google.com/github/shaheriar/CS-228-Deep-Learning-Project/blob/Experimental-Changes/CS228FinalProject.ipynb\" target=\"_parent\"><img src=\"https://colab.research.google.com/assets/colab-badge.svg\" alt=\"Open In Colab\"/></a>"
      ]
    },
    {
      "cell_type": "markdown",
      "source": [
        "# CS 228 Final Project\n",
        "## Enhancing Image Captioning with Deep Learning Models\n",
        "### Saul Gonzalez - sgonz081\n",
        "### Shaheriar Malik - smali032\n",
        "\n",
        "Dataset: https://www.kaggle.com/datasets/hsankesara/flickr-image-dataset\n",
        "\n",
        "Image captioning is a difficult task that is one step above image classification since we are\n",
        "generating an actual text description of each image. So, deep learning would be an obvious choice in this case since generating text for a variable input image is a difficult task that would require a complex model.\n"
      ],
      "metadata": {
        "id": "jNU4I8Ai0yzd"
      }
    },
    {
      "cell_type": "code",
      "execution_count": 1,
      "metadata": {
        "id": "fgiadna8xoGq",
        "outputId": "b02d987f-09a5-497c-9025-d0c3ca1a3cc0",
        "colab": {
          "base_uri": "https://localhost:8080/"
        }
      },
      "outputs": [
        {
          "output_type": "stream",
          "name": "stdout",
          "text": [
            "Mounted at /content/drive\n"
          ]
        }
      ],
      "source": [
        "import torch\n",
        "import torchvision.models as models\n",
        "import torch.nn as nn\n",
        "import torchvision.transforms as transforms\n",
        "from torchvision import datasets\n",
        "from torch.utils.data import Dataset, DataLoader\n",
        "from torchtext.data import get_tokenizer\n",
        "from torchtext.data.metrics import bleu_score\n",
        "from torchtext.vocab import vocab\n",
        "from torch.nn.utils.rnn import pad_sequence\n",
        "from torch.utils.data import random_split\n",
        "from torchtext.data.metrics import bleu_score\n",
        "\n",
        "from copy import deepcopy\n",
        "\n",
        "from PIL import Image\n",
        "import nltk\n",
        "\n",
        "import matplotlib.pyplot as plt\n",
        "import numpy as np\n",
        "import pandas as pd\n",
        "import matplotlib.pyplot as plt\n",
        "import seaborn as sns\n",
        "\n",
        "from google.colab import drive\n",
        "\n",
        "import random\n",
        "import os\n",
        "import natsort\n",
        "import cv2\n",
        "from collections import Counter, OrderedDict\n",
        "\n",
        "from textwrap import wrap\n",
        "from IPython.display import clear_output\n",
        "\n",
        "drive.mount('/content/drive')"
      ]
    },
    {
      "cell_type": "code",
      "source": [
        "!unzip -n \"/content/drive/MyDrive/ImageCaptioningDataset/flickr30k_images.zip\" -d \"/content\"\n",
        "clear_output()"
      ],
      "metadata": {
        "id": "anVSuIG2PNc5"
      },
      "execution_count": 2,
      "outputs": []
    },
    {
      "cell_type": "code",
      "source": [
        "raw_df = pd.read_csv('/content/drive/MyDrive/ImageCaptioningDataset/results.csv', sep='|', header = None)\n",
        "#raw_df.drop([' comment_number'],axis=1, inplace=True)\n",
        "#raw_df.columns = raw_df.columns.str.replace(' ', '')\n",
        "#raw_df.loc[19999,'comment'] = 'A dog runs across the grass .'\n",
        "#raw_df.to_csv('out.csv',sep='|',index=False)\n",
        "#raw_df.iloc[[19999]]"
      ],
      "metadata": {
        "id": "rGJLib9AXtS3"
      },
      "execution_count": 3,
      "outputs": []
    },
    {
      "cell_type": "code",
      "source": [
        "# read, resize and zero pad images. Returns image tensor [3, 256, 256]\n",
        "def readImage(path):\n",
        "    desired_size = 256 # 256 x 256\n",
        "    image = cv2.imread(path)\n",
        "    old_size = image.shape[:2]\n",
        "    image = cv2.cvtColor(image, cv2.COLOR_BGR2RGB)\n",
        "    ratio = float(desired_size)/max(old_size)\n",
        "    new_size = tuple([int(x*ratio) for x in old_size])\n",
        "    image = cv2.resize(image, (new_size[1], new_size[0]))\n",
        "    delta_w = desired_size - new_size[1]\n",
        "    delta_h = desired_size - new_size[0]\n",
        "    top, bottom = delta_h//2, delta_h-(delta_h//2)\n",
        "    left, right = delta_w//2, delta_w-(delta_w//2)\n",
        "    new_im = cv2.copyMakeBorder(image, top, bottom, left, right, cv2.BORDER_CONSTANT, value=[0, 0, 0])\n",
        "    transform = transforms.ToTensor()\n",
        "    tensor = transform(new_im)\n",
        "    return tensor\n",
        "\n",
        "def display_images(temp_df):\n",
        "    temp_df = temp_df.reset_index(drop=True)\n",
        "    num = temp_df.shape[0]\n",
        "    plt.figure(figsize = (20 , 20))\n",
        "    n = 0\n",
        "    for i in range(num):\n",
        "        n+=1\n",
        "        plt.subplot(5 , 5, n)\n",
        "        plt.subplots_adjust(hspace = 0.1, wspace = 0.1)\n",
        "        image = readImage(f\"/content/flickr30k_images/{temp_df.image_name[i]}\")\n",
        "        plt.imshow(image.permute(1, 2, 0))\n",
        "        plt.title(\"\\n\".join(wrap(temp_df.comment[i], 30)))\n",
        "\n",
        "#num = 5\n",
        "#display_images(raw_df.sample(num))"
      ],
      "metadata": {
        "id": "MfB4KsAgZTrB"
      },
      "execution_count": 4,
      "outputs": []
    },
    {
      "cell_type": "code",
      "source": [
        "# Build vocabulary for Captions\n",
        "def build_vocab(captions,tokenizer,max_len):\n",
        "  counter = Counter()\n",
        "  current_max = max_len\n",
        "  for caption in captions:\n",
        "    sentence = caption.strip()\n",
        "    tokens = tokenizer(sentence)\n",
        "    if len(tokens) > current_max:\n",
        "      current_max = len(tokens)\n",
        "    counter.update(tokens)\n",
        "  sorted_by_freq = sorted(counter.items(), key=lambda x: x[1], reverse=True)\n",
        "  dictionary = OrderedDict(sorted_by_freq)\n",
        "  dictionary = dict(dictionary)\n",
        "  dictionary = OrderedDict(dictionary)\n",
        "  return vocab(dictionary,specials=['<PAD>','<SOS>','<EOS>','<UNK>']), current_max"
      ],
      "metadata": {
        "id": "E2vsl3IoFom4"
      },
      "execution_count": 5,
      "outputs": []
    },
    {
      "cell_type": "code",
      "source": [
        "class CustomDataset(Dataset):\n",
        "    def __init__(self, data_dir, label_csv, transform=None):\n",
        "        self.data_dir = data_dir\n",
        "        self.target_len = -1\n",
        "\n",
        "        self.data_df = pd.read_csv(label_csv, sep='|',header=None)\n",
        "        self.data_df = self.data_df.dropna()\n",
        "        #self.data_df.drop([' comment_number'],axis=1, inplace=True)\n",
        "        #self.data_df.columns = self.data_df.columns.str.replace(' ', '')\n",
        "        self.captions = self.data_df[1] # 0 is image_name, 1 is comment\n",
        "        self.captions = self.captions.apply(lambda x: x.lower())\n",
        "        self.captions = self.captions.apply(lambda x: x.replace(\"[^A-Za-z]\",\"\"))\n",
        "        self.captions = self.captions.apply(lambda x: x.replace(\"\\s+\",\" \"))\n",
        "        self.captions = self.captions.apply(lambda x: \" \".join([word for word in x.split() if len(word)>1]))\n",
        "\n",
        "        self.transform = transform\n",
        "        self.image_paths = self.data_df[0]#os.listdir(data_dir)  # Assumes images are directly under data_dir\n",
        "\n",
        "        self.tokenizer = get_tokenizer(\"basic_english\")\n",
        "        self.vocab, self.target_len = build_vocab(self.captions.tolist(),self.tokenizer,self.target_len)\n",
        "        self.target_len += 2\n",
        "        self.vocab.set_default_index(self.vocab['<UNK>'])\n",
        "\n",
        "    def __len__(self):\n",
        "        return len(self.data_df)\n",
        "\n",
        "    def __getitem__(self, idx):\n",
        "        image_path = os.path.join(self.data_dir, self.image_paths[idx])\n",
        "        image = cv2.imread(image_path)\n",
        "        image = cv2.cvtColor(image, cv2.COLOR_BGR2RGB)\n",
        "        #image = (image - np.mean(image))/np.std(image) # normalize\n",
        "        image = Image.fromarray(image)# * 255).astype(np.uint8))\n",
        "        # = Image.open(image_path).convert(\"RGB\")\n",
        "        caption = self.captions[idx]\n",
        "        \n",
        "        if self.transform is not None:\n",
        "            image = self.transform(image)\n",
        "\n",
        "        # Vectorize the given caption using our dataset's vocabulary\n",
        "        caption = caption.strip()\n",
        "        caption = self.tokenizer(caption)\n",
        "        caption_vector = [self.vocab['<SOS>']]\n",
        "        caption_vector.extend([self.vocab[word] for word in caption])\n",
        "        caption_vector.append(self.vocab['<EOS>'])\n",
        "\n",
        "        # Add padding to the vector if it needs it\n",
        "        if len(caption_vector) < self.target_len:\n",
        "          for i in range(self.target_len - len(caption_vector)):\n",
        "            caption_vector.append(self.vocab['<PAD>'])\n",
        "\n",
        "        # Return the processed image and any associated labels\n",
        "        return image, torch.tensor(caption_vector)"
      ],
      "metadata": {
        "id": "pKYERZ5AUtFM"
      },
      "execution_count": 6,
      "outputs": []
    },
    {
      "cell_type": "code",
      "source": [
        "weights = models.Wide_ResNet50_2_Weights.IMAGENET1K_V1\n",
        "preprocess = weights.transforms()\n",
        "\n",
        "data_dir = '/content/flickr30k_images/'\n",
        "label_csv = '/content/drive/MyDrive/ImageCaptioningDataset/results.csv'\n",
        "dataset = CustomDataset(data_dir, label_csv, transform=preprocess)\n",
        "len(dataset)"
      ],
      "metadata": {
        "id": "vxtZgwO6e21r",
        "colab": {
          "base_uri": "https://localhost:8080/"
        },
        "outputId": "a93094ef-7f19-46ed-f606-a8572b8519a8"
      },
      "execution_count": 7,
      "outputs": [
        {
          "output_type": "execute_result",
          "data": {
            "text/plain": [
              "158915"
            ]
          },
          "metadata": {},
          "execution_count": 7
        }
      ]
    },
    {
      "cell_type": "code",
      "source": [
        "test,train = random_split(dataset, [int(len(dataset)*0.3)+1, int(len(dataset)*0.7)])\n",
        "print(len(test),len(train))"
      ],
      "metadata": {
        "colab": {
          "base_uri": "https://localhost:8080/"
        },
        "id": "lLFtN18AqHI2",
        "outputId": "2b35b137-b7ed-41e5-f0f9-77f6a5b0f99c"
      },
      "execution_count": 8,
      "outputs": [
        {
          "output_type": "stream",
          "name": "stdout",
          "text": [
            "47675 111240\n"
          ]
        }
      ]
    },
    {
      "cell_type": "code",
      "source": [
        "image_paths = raw_df[0]\n",
        "image_paths[0]"
      ],
      "metadata": {
        "colab": {
          "base_uri": "https://localhost:8080/",
          "height": 35
        },
        "id": "jZGiNPk2eyir",
        "outputId": "f9695fd2-df62-4155-97ab-2722b7280735"
      },
      "execution_count": 9,
      "outputs": [
        {
          "output_type": "execute_result",
          "data": {
            "text/plain": [
              "'1000092795.jpg'"
            ],
            "application/vnd.google.colaboratory.intrinsic+json": {
              "type": "string"
            }
          },
          "metadata": {},
          "execution_count": 9
        }
      ]
    },
    {
      "cell_type": "code",
      "source": [
        "batch_size = 37\n",
        "#dataloader = DataLoader(dataset, batch_size=batch_size, shuffle=False)\n",
        "train_loader = DataLoader(train, batch_size=batch_size, shuffle=True)\n",
        "test_loader = DataLoader(test, batch_size=batch_size, shuffle=True)"
      ],
      "metadata": {
        "id": "EfbFZUHSVJ16"
      },
      "execution_count": 10,
      "outputs": []
    },
    {
      "cell_type": "code",
      "source": [
        "vocab_size = len(dataset.vocab)\n",
        "vocab_size"
      ],
      "metadata": {
        "id": "bkHmM37T9822",
        "outputId": "acdeead1-75f4-4146-e533-f571110cd657",
        "colab": {
          "base_uri": "https://localhost:8080/"
        }
      },
      "execution_count": 11,
      "outputs": [
        {
          "output_type": "execute_result",
          "data": {
            "text/plain": [
              "20205"
            ]
          },
          "metadata": {},
          "execution_count": 11
        }
      ]
    },
    {
      "cell_type": "code",
      "source": [
        "# import time\n",
        "# i = 0\n",
        "# for img, file_name in dataloader:\n",
        "#   clear_output()\n",
        "#   #print(label[0])\n",
        "#   #print(raw_df['image_name'])\n",
        "#   plt.imshow(img[0].permute(1,2,0))\n",
        "#   print(list(raw_df.loc[raw_df['image_name'] == file_name[0]].comment)[0])\n",
        "#   i+=5\n",
        "#   plt.show()\n",
        "#   time.sleep(1)"
      ],
      "metadata": {
        "id": "8Om2xhbrV8Kf"
      },
      "execution_count": 12,
      "outputs": []
    },
    {
      "cell_type": "markdown",
      "source": [
        "## Encoder & Decoder"
      ],
      "metadata": {
        "id": "neF3kL8GuT_I"
      }
    },
    {
      "cell_type": "code",
      "source": [
        "class Encoder(nn.Module):\n",
        "  def __init__(self,embed_size):\n",
        "    super(Encoder, self).__init__()\n",
        "    # Load the pretrained ResNet-101 model\n",
        "    self.resnet = models.wide_resnet50_2(weights=weights)\n",
        "    self.resnet.fc = nn.Linear(self.resnet.fc.in_features, embed_size)\n",
        "\n",
        "  def forward(self,images):\n",
        "    features = self.resnet(images)\n",
        "    features = features.unsqueeze(1)\n",
        "    return features"
      ],
      "metadata": {
        "id": "3haTP7JWud4R"
      },
      "execution_count": 13,
      "outputs": []
    },
    {
      "cell_type": "code",
      "source": [
        "class Decoder(nn.Module):\n",
        "  def __init__(self, embed_size, hidden_size, vocab_size):\n",
        "    super(Decoder, self).__init__()\n",
        "    self.embedding = nn.Embedding(vocab_size, embed_size, padding_idx=dataset.vocab['<PAD>'])\n",
        "    self.lstm = nn.LSTM(embed_size, hidden_size, batch_first=True)\n",
        "    self.attention = nn.Linear(embed_size,embed_size)\n",
        "    self.fc = nn.Linear(hidden_size, vocab_size)\n",
        "\n",
        "  def forward(self, features, captions):\n",
        "    embeddings = self.embedding(captions)\n",
        "    combined = torch.cat((features, embeddings), dim=1)\n",
        "\n",
        "    attention_weights = torch.softmax(self.attention(combined), dim=1)\n",
        "    attention_encoding = torch.sum(combined * attention_weights, dim=1)\n",
        "\n",
        "    lstm_out, _ = self.lstm(combined)\n",
        "\n",
        "    outputs = self.fc(lstm_out)\n",
        "    return outputs"
      ],
      "metadata": {
        "id": "ymexnplm23lK"
      },
      "execution_count": 14,
      "outputs": []
    },
    {
      "cell_type": "code",
      "source": [
        "embed_size = 256\n",
        "hidden_size = 512\n",
        "\n",
        "device = torch.device(\"cuda\" if torch.cuda.is_available() else \"cpu\")\n",
        "device = torch.device('mps') if torch.backends.mps.is_available() else device\n",
        "\n",
        "encoder = Encoder(embed_size).to(device)\n",
        "for param in encoder.parameters():\n",
        "    param.requires_grad = False\n",
        "\n",
        "decoder = Decoder(embed_size, hidden_size, vocab_size).to(device)"
      ],
      "metadata": {
        "id": "gUU6kEjQ-9or",
        "outputId": "1d3b06b9-6921-41f4-8608-e7a1676de50d",
        "colab": {
          "base_uri": "https://localhost:8080/"
        }
      },
      "execution_count": 15,
      "outputs": [
        {
          "output_type": "stream",
          "name": "stderr",
          "text": [
            "Downloading: \"https://download.pytorch.org/models/wide_resnet50_2-95faca4d.pth\" to /root/.cache/torch/hub/checkpoints/wide_resnet50_2-95faca4d.pth\n",
            "100%|██████████| 132M/132M [00:01<00:00, 78.5MB/s]\n"
          ]
        }
      ]
    },
    {
      "cell_type": "code",
      "source": [
        "def training():\n",
        "  criterion = nn.CrossEntropyLoss(ignore_index=dataset.vocab['<PAD>'])\n",
        "  optimizer = torch.optim.Adam(decoder.parameters(), lr=0.001)\n",
        "  num_epochs = 10\n",
        "  for epoch in range(num_epochs):\n",
        "    encoder.train()\n",
        "    decoder.train()\n",
        "    i = 0\n",
        "    for images, captions in train_loader:\n",
        "        images = images.to(device, dtype=torch.float)\n",
        "        captions = captions.to(device)\n",
        "        #print('captions shape',captions.shape)\n",
        "\n",
        "        # Forward pass\n",
        "        features = encoder(images)\n",
        "        outputs = decoder(features, captions[:,:-1])\n",
        "        #outputs = outputs[:,1:,:]\n",
        "        #print('outputs shape',outputs.shape)\n",
        "       # print(outputs)\n",
        "        #print(outputs.reshape(-1, vocab_size).shape)\n",
        "        # Reshape captions for loss calculation\n",
        "        targets = captions[:, :].reshape(-1)\n",
        "        \n",
        "        #print(targets.shape)\n",
        "\n",
        "        # Compute loss\n",
        "        loss = criterion(outputs.reshape(-1, vocab_size), targets)\n",
        "\n",
        "        # Backward pass and optimization\n",
        "        optimizer.zero_grad()\n",
        "        loss.backward()\n",
        "        optimizer.step()\n",
        "\n",
        "        # Print the loss\n",
        "        if i % 100 == 0:\n",
        "          print('Epoch [{}/{}], Step [{}/{}], Loss: {:.4f}'.format(epoch+1, num_epochs, i, len(train_loader), loss.item()))\n",
        "        i+=1\n",
        "\n",
        "training()"
      ],
      "metadata": {
        "colab": {
          "base_uri": "https://localhost:8080/"
        },
        "id": "6i_RgnkOBbYw",
        "outputId": "d08076e5-b115-491b-c362-2f115a93fce5"
      },
      "execution_count": 16,
      "outputs": [
        {
          "output_type": "stream",
          "name": "stdout",
          "text": [
            "Epoch [1/10], Step [0/3007], Loss: 9.9093\n",
            "Epoch [1/10], Step [100/3007], Loss: 4.8028\n",
            "Epoch [1/10], Step [200/3007], Loss: 4.3890\n",
            "Epoch [1/10], Step [300/3007], Loss: 4.2173\n",
            "Epoch [1/10], Step [400/3007], Loss: 4.5629\n",
            "Epoch [1/10], Step [500/3007], Loss: 4.7016\n",
            "Epoch [1/10], Step [600/3007], Loss: 4.1392\n",
            "Epoch [1/10], Step [700/3007], Loss: 4.0430\n",
            "Epoch [1/10], Step [800/3007], Loss: 4.2537\n",
            "Epoch [1/10], Step [900/3007], Loss: 4.0274\n",
            "Epoch [1/10], Step [1000/3007], Loss: 4.3504\n",
            "Epoch [1/10], Step [1100/3007], Loss: 3.6482\n",
            "Epoch [1/10], Step [1200/3007], Loss: 3.8284\n",
            "Epoch [1/10], Step [1300/3007], Loss: 3.8360\n",
            "Epoch [1/10], Step [1400/3007], Loss: 4.0479\n",
            "Epoch [1/10], Step [1500/3007], Loss: 3.2346\n",
            "Epoch [1/10], Step [1600/3007], Loss: 3.7425\n",
            "Epoch [1/10], Step [1700/3007], Loss: 3.7807\n",
            "Epoch [1/10], Step [1800/3007], Loss: 3.6474\n",
            "Epoch [1/10], Step [1900/3007], Loss: 3.7609\n",
            "Epoch [1/10], Step [2000/3007], Loss: 3.5183\n",
            "Epoch [1/10], Step [2100/3007], Loss: 3.4677\n",
            "Epoch [1/10], Step [2200/3007], Loss: 3.9844\n",
            "Epoch [1/10], Step [2300/3007], Loss: 3.5733\n",
            "Epoch [1/10], Step [2400/3007], Loss: 3.8911\n",
            "Epoch [1/10], Step [2500/3007], Loss: 3.5351\n",
            "Epoch [1/10], Step [2600/3007], Loss: 3.6741\n",
            "Epoch [1/10], Step [2700/3007], Loss: 3.5581\n",
            "Epoch [1/10], Step [2800/3007], Loss: 3.6041\n",
            "Epoch [1/10], Step [2900/3007], Loss: 3.2669\n",
            "Epoch [1/10], Step [3000/3007], Loss: 3.4214\n",
            "Epoch [2/10], Step [0/3007], Loss: 3.0730\n",
            "Epoch [2/10], Step [100/3007], Loss: 3.1954\n",
            "Epoch [2/10], Step [200/3007], Loss: 3.2882\n",
            "Epoch [2/10], Step [300/3007], Loss: 3.0819\n",
            "Epoch [2/10], Step [400/3007], Loss: 3.4033\n",
            "Epoch [2/10], Step [500/3007], Loss: 3.2518\n",
            "Epoch [2/10], Step [600/3007], Loss: 3.3010\n",
            "Epoch [2/10], Step [700/3007], Loss: 3.1890\n",
            "Epoch [2/10], Step [800/3007], Loss: 3.2123\n",
            "Epoch [2/10], Step [900/3007], Loss: 2.9369\n",
            "Epoch [2/10], Step [1000/3007], Loss: 3.1876\n",
            "Epoch [2/10], Step [1100/3007], Loss: 3.0577\n",
            "Epoch [2/10], Step [1200/3007], Loss: 3.1757\n",
            "Epoch [2/10], Step [1300/3007], Loss: 3.2444\n",
            "Epoch [2/10], Step [1400/3007], Loss: 3.3728\n",
            "Epoch [2/10], Step [1500/3007], Loss: 3.2615\n",
            "Epoch [2/10], Step [1600/3007], Loss: 3.1330\n",
            "Epoch [2/10], Step [1700/3007], Loss: 3.0600\n",
            "Epoch [2/10], Step [1800/3007], Loss: 3.5030\n",
            "Epoch [2/10], Step [1900/3007], Loss: 3.1491\n",
            "Epoch [2/10], Step [2000/3007], Loss: 3.3183\n",
            "Epoch [2/10], Step [2100/3007], Loss: 3.0881\n",
            "Epoch [2/10], Step [2200/3007], Loss: 3.1843\n",
            "Epoch [2/10], Step [2300/3007], Loss: 3.2561\n",
            "Epoch [2/10], Step [2400/3007], Loss: 3.1532\n",
            "Epoch [2/10], Step [2500/3007], Loss: 3.1107\n",
            "Epoch [2/10], Step [2600/3007], Loss: 3.4093\n",
            "Epoch [2/10], Step [2700/3007], Loss: 3.1141\n",
            "Epoch [2/10], Step [2800/3007], Loss: 3.5367\n",
            "Epoch [2/10], Step [2900/3007], Loss: 3.1101\n",
            "Epoch [2/10], Step [3000/3007], Loss: 3.1141\n",
            "Epoch [3/10], Step [0/3007], Loss: 2.8481\n",
            "Epoch [3/10], Step [100/3007], Loss: 2.7955\n",
            "Epoch [3/10], Step [200/3007], Loss: 2.6890\n",
            "Epoch [3/10], Step [300/3007], Loss: 2.6496\n",
            "Epoch [3/10], Step [400/3007], Loss: 2.7643\n",
            "Epoch [3/10], Step [500/3007], Loss: 2.8970\n",
            "Epoch [3/10], Step [600/3007], Loss: 2.7833\n",
            "Epoch [3/10], Step [700/3007], Loss: 3.0097\n",
            "Epoch [3/10], Step [800/3007], Loss: 2.8618\n",
            "Epoch [3/10], Step [900/3007], Loss: 2.9394\n",
            "Epoch [3/10], Step [1000/3007], Loss: 2.7370\n",
            "Epoch [3/10], Step [1100/3007], Loss: 2.9937\n",
            "Epoch [3/10], Step [1200/3007], Loss: 3.0460\n",
            "Epoch [3/10], Step [1300/3007], Loss: 2.8608\n",
            "Epoch [3/10], Step [1400/3007], Loss: 2.7986\n",
            "Epoch [3/10], Step [1500/3007], Loss: 3.0526\n",
            "Epoch [3/10], Step [1600/3007], Loss: 2.9939\n",
            "Epoch [3/10], Step [1700/3007], Loss: 2.9258\n",
            "Epoch [3/10], Step [1800/3007], Loss: 2.9453\n",
            "Epoch [3/10], Step [1900/3007], Loss: 2.7168\n",
            "Epoch [3/10], Step [2000/3007], Loss: 2.9071\n",
            "Epoch [3/10], Step [2100/3007], Loss: 2.8350\n",
            "Epoch [3/10], Step [2200/3007], Loss: 2.9300\n",
            "Epoch [3/10], Step [2300/3007], Loss: 2.9837\n",
            "Epoch [3/10], Step [2400/3007], Loss: 2.6814\n",
            "Epoch [3/10], Step [2500/3007], Loss: 2.9570\n",
            "Epoch [3/10], Step [2600/3007], Loss: 2.8942\n",
            "Epoch [3/10], Step [2700/3007], Loss: 2.7839\n",
            "Epoch [3/10], Step [2800/3007], Loss: 2.9996\n",
            "Epoch [3/10], Step [2900/3007], Loss: 3.0569\n",
            "Epoch [3/10], Step [3000/3007], Loss: 3.0552\n",
            "Epoch [4/10], Step [0/3007], Loss: 2.7048\n",
            "Epoch [4/10], Step [100/3007], Loss: 2.5222\n",
            "Epoch [4/10], Step [200/3007], Loss: 2.7527\n",
            "Epoch [4/10], Step [300/3007], Loss: 2.4967\n",
            "Epoch [4/10], Step [400/3007], Loss: 2.6388\n",
            "Epoch [4/10], Step [500/3007], Loss: 2.6157\n",
            "Epoch [4/10], Step [600/3007], Loss: 2.4944\n",
            "Epoch [4/10], Step [700/3007], Loss: 2.4744\n",
            "Epoch [4/10], Step [800/3007], Loss: 2.6741\n",
            "Epoch [4/10], Step [900/3007], Loss: 2.5999\n",
            "Epoch [4/10], Step [1000/3007], Loss: 2.6750\n",
            "Epoch [4/10], Step [1100/3007], Loss: 2.6433\n",
            "Epoch [4/10], Step [1200/3007], Loss: 2.6876\n",
            "Epoch [4/10], Step [1300/3007], Loss: 2.6482\n",
            "Epoch [4/10], Step [1400/3007], Loss: 2.7221\n",
            "Epoch [4/10], Step [1500/3007], Loss: 2.5581\n",
            "Epoch [4/10], Step [1600/3007], Loss: 2.8300\n",
            "Epoch [4/10], Step [1700/3007], Loss: 2.5687\n",
            "Epoch [4/10], Step [1800/3007], Loss: 2.8055\n",
            "Epoch [4/10], Step [1900/3007], Loss: 2.7924\n",
            "Epoch [4/10], Step [2000/3007], Loss: 2.5872\n",
            "Epoch [4/10], Step [2100/3007], Loss: 2.7120\n",
            "Epoch [4/10], Step [2200/3007], Loss: 2.8240\n",
            "Epoch [4/10], Step [2300/3007], Loss: 2.8192\n",
            "Epoch [4/10], Step [2400/3007], Loss: 2.9279\n",
            "Epoch [4/10], Step [2500/3007], Loss: 2.6807\n",
            "Epoch [4/10], Step [2600/3007], Loss: 2.6141\n",
            "Epoch [4/10], Step [2700/3007], Loss: 2.6036\n",
            "Epoch [4/10], Step [2800/3007], Loss: 2.8965\n",
            "Epoch [4/10], Step [2900/3007], Loss: 2.7965\n",
            "Epoch [4/10], Step [3000/3007], Loss: 3.0687\n",
            "Epoch [5/10], Step [0/3007], Loss: 2.5623\n",
            "Epoch [5/10], Step [100/3007], Loss: 2.5043\n",
            "Epoch [5/10], Step [200/3007], Loss: 2.3874\n",
            "Epoch [5/10], Step [300/3007], Loss: 2.3639\n",
            "Epoch [5/10], Step [400/3007], Loss: 2.5366\n",
            "Epoch [5/10], Step [500/3007], Loss: 2.5222\n",
            "Epoch [5/10], Step [600/3007], Loss: 2.4069\n",
            "Epoch [5/10], Step [700/3007], Loss: 2.5508\n",
            "Epoch [5/10], Step [800/3007], Loss: 2.4983\n",
            "Epoch [5/10], Step [900/3007], Loss: 2.5938\n",
            "Epoch [5/10], Step [1000/3007], Loss: 2.5811\n",
            "Epoch [5/10], Step [1100/3007], Loss: 2.5519\n",
            "Epoch [5/10], Step [1200/3007], Loss: 2.4865\n",
            "Epoch [5/10], Step [1300/3007], Loss: 2.4592\n",
            "Epoch [5/10], Step [1400/3007], Loss: 2.5533\n",
            "Epoch [5/10], Step [1500/3007], Loss: 2.6406\n",
            "Epoch [5/10], Step [1600/3007], Loss: 2.5936\n",
            "Epoch [5/10], Step [1700/3007], Loss: 2.5900\n",
            "Epoch [5/10], Step [1800/3007], Loss: 2.6324\n",
            "Epoch [5/10], Step [1900/3007], Loss: 2.4445\n",
            "Epoch [5/10], Step [2000/3007], Loss: 2.7439\n",
            "Epoch [5/10], Step [2100/3007], Loss: 2.4113\n",
            "Epoch [5/10], Step [2200/3007], Loss: 2.5656\n",
            "Epoch [5/10], Step [2300/3007], Loss: 2.5337\n",
            "Epoch [5/10], Step [2400/3007], Loss: 2.7539\n",
            "Epoch [5/10], Step [2500/3007], Loss: 2.5419\n",
            "Epoch [5/10], Step [2600/3007], Loss: 2.6138\n",
            "Epoch [5/10], Step [2700/3007], Loss: 2.5813\n",
            "Epoch [5/10], Step [2800/3007], Loss: 2.6247\n",
            "Epoch [5/10], Step [2900/3007], Loss: 2.4876\n",
            "Epoch [5/10], Step [3000/3007], Loss: 2.7389\n",
            "Epoch [6/10], Step [0/3007], Loss: 2.2531\n",
            "Epoch [6/10], Step [100/3007], Loss: 2.2660\n",
            "Epoch [6/10], Step [200/3007], Loss: 2.1917\n",
            "Epoch [6/10], Step [300/3007], Loss: 2.2620\n",
            "Epoch [6/10], Step [400/3007], Loss: 2.3011\n",
            "Epoch [6/10], Step [500/3007], Loss: 2.3839\n",
            "Epoch [6/10], Step [600/3007], Loss: 2.2838\n",
            "Epoch [6/10], Step [700/3007], Loss: 2.2495\n",
            "Epoch [6/10], Step [800/3007], Loss: 2.3394\n",
            "Epoch [6/10], Step [900/3007], Loss: 2.3153\n",
            "Epoch [6/10], Step [1000/3007], Loss: 2.2780\n",
            "Epoch [6/10], Step [1100/3007], Loss: 2.4207\n",
            "Epoch [6/10], Step [1200/3007], Loss: 2.1309\n",
            "Epoch [6/10], Step [1300/3007], Loss: 2.5485\n",
            "Epoch [6/10], Step [1400/3007], Loss: 2.3795\n",
            "Epoch [6/10], Step [1500/3007], Loss: 2.5065\n",
            "Epoch [6/10], Step [1600/3007], Loss: 2.3608\n",
            "Epoch [6/10], Step [1700/3007], Loss: 2.4270\n",
            "Epoch [6/10], Step [1800/3007], Loss: 2.4167\n",
            "Epoch [6/10], Step [1900/3007], Loss: 2.3804\n",
            "Epoch [6/10], Step [2000/3007], Loss: 2.4627\n",
            "Epoch [6/10], Step [2100/3007], Loss: 2.3511\n",
            "Epoch [6/10], Step [2200/3007], Loss: 2.3766\n",
            "Epoch [6/10], Step [2300/3007], Loss: 2.3522\n",
            "Epoch [6/10], Step [2400/3007], Loss: 2.2969\n",
            "Epoch [6/10], Step [2500/3007], Loss: 2.3287\n",
            "Epoch [6/10], Step [2600/3007], Loss: 2.4591\n",
            "Epoch [6/10], Step [2700/3007], Loss: 2.3277\n",
            "Epoch [6/10], Step [2800/3007], Loss: 2.4815\n",
            "Epoch [6/10], Step [2900/3007], Loss: 2.5121\n",
            "Epoch [6/10], Step [3000/3007], Loss: 2.2457\n",
            "Epoch [7/10], Step [0/3007], Loss: 2.0695\n",
            "Epoch [7/10], Step [100/3007], Loss: 2.1560\n",
            "Epoch [7/10], Step [200/3007], Loss: 2.0416\n",
            "Epoch [7/10], Step [300/3007], Loss: 2.2457\n",
            "Epoch [7/10], Step [400/3007], Loss: 2.1833\n",
            "Epoch [7/10], Step [500/3007], Loss: 2.1664\n",
            "Epoch [7/10], Step [600/3007], Loss: 2.1701\n",
            "Epoch [7/10], Step [700/3007], Loss: 2.1284\n",
            "Epoch [7/10], Step [800/3007], Loss: 2.1465\n",
            "Epoch [7/10], Step [900/3007], Loss: 2.1131\n",
            "Epoch [7/10], Step [1000/3007], Loss: 2.2139\n",
            "Epoch [7/10], Step [1100/3007], Loss: 2.1397\n",
            "Epoch [7/10], Step [1200/3007], Loss: 2.1764\n",
            "Epoch [7/10], Step [1300/3007], Loss: 2.3976\n",
            "Epoch [7/10], Step [1400/3007], Loss: 2.2753\n",
            "Epoch [7/10], Step [1500/3007], Loss: 2.1621\n",
            "Epoch [7/10], Step [1600/3007], Loss: 2.3115\n",
            "Epoch [7/10], Step [1700/3007], Loss: 2.3095\n",
            "Epoch [7/10], Step [1800/3007], Loss: 2.3114\n",
            "Epoch [7/10], Step [1900/3007], Loss: 2.3028\n",
            "Epoch [7/10], Step [2000/3007], Loss: 2.3184\n",
            "Epoch [7/10], Step [2100/3007], Loss: 2.4587\n",
            "Epoch [7/10], Step [2200/3007], Loss: 2.2358\n",
            "Epoch [7/10], Step [2300/3007], Loss: 2.3774\n",
            "Epoch [7/10], Step [2400/3007], Loss: 2.4261\n",
            "Epoch [7/10], Step [2500/3007], Loss: 2.1511\n",
            "Epoch [7/10], Step [2600/3007], Loss: 2.2479\n",
            "Epoch [7/10], Step [2700/3007], Loss: 2.4184\n",
            "Epoch [7/10], Step [2800/3007], Loss: 2.2091\n",
            "Epoch [7/10], Step [2900/3007], Loss: 2.3739\n",
            "Epoch [7/10], Step [3000/3007], Loss: 2.3585\n",
            "Epoch [8/10], Step [0/3007], Loss: 2.0524\n",
            "Epoch [8/10], Step [100/3007], Loss: 1.9847\n",
            "Epoch [8/10], Step [200/3007], Loss: 2.0371\n",
            "Epoch [8/10], Step [300/3007], Loss: 2.0535\n",
            "Epoch [8/10], Step [400/3007], Loss: 1.9547\n",
            "Epoch [8/10], Step [500/3007], Loss: 1.9892\n",
            "Epoch [8/10], Step [600/3007], Loss: 2.1256\n",
            "Epoch [8/10], Step [700/3007], Loss: 2.1102\n",
            "Epoch [8/10], Step [800/3007], Loss: 2.0893\n",
            "Epoch [8/10], Step [900/3007], Loss: 2.1310\n",
            "Epoch [8/10], Step [1000/3007], Loss: 2.3101\n",
            "Epoch [8/10], Step [1100/3007], Loss: 2.0932\n",
            "Epoch [8/10], Step [1200/3007], Loss: 2.2788\n",
            "Epoch [8/10], Step [1300/3007], Loss: 2.2323\n",
            "Epoch [8/10], Step [1400/3007], Loss: 2.2768\n",
            "Epoch [8/10], Step [1500/3007], Loss: 2.1298\n",
            "Epoch [8/10], Step [1600/3007], Loss: 2.0922\n",
            "Epoch [8/10], Step [1700/3007], Loss: 2.0809\n",
            "Epoch [8/10], Step [1800/3007], Loss: 2.2471\n",
            "Epoch [8/10], Step [1900/3007], Loss: 2.0812\n",
            "Epoch [8/10], Step [2000/3007], Loss: 2.1022\n",
            "Epoch [8/10], Step [2100/3007], Loss: 2.3597\n",
            "Epoch [8/10], Step [2200/3007], Loss: 2.2791\n",
            "Epoch [8/10], Step [2300/3007], Loss: 2.1641\n",
            "Epoch [8/10], Step [2400/3007], Loss: 2.2375\n",
            "Epoch [8/10], Step [2500/3007], Loss: 2.2410\n",
            "Epoch [8/10], Step [2600/3007], Loss: 2.0968\n",
            "Epoch [8/10], Step [2700/3007], Loss: 2.3288\n",
            "Epoch [8/10], Step [2800/3007], Loss: 2.0809\n",
            "Epoch [8/10], Step [2900/3007], Loss: 2.3479\n",
            "Epoch [8/10], Step [3000/3007], Loss: 2.3210\n",
            "Epoch [9/10], Step [0/3007], Loss: 1.8784\n",
            "Epoch [9/10], Step [100/3007], Loss: 1.7889\n",
            "Epoch [9/10], Step [200/3007], Loss: 2.0266\n",
            "Epoch [9/10], Step [300/3007], Loss: 2.0290\n",
            "Epoch [9/10], Step [400/3007], Loss: 1.9371\n",
            "Epoch [9/10], Step [500/3007], Loss: 1.9255\n",
            "Epoch [9/10], Step [600/3007], Loss: 2.0626\n",
            "Epoch [9/10], Step [700/3007], Loss: 1.9185\n",
            "Epoch [9/10], Step [800/3007], Loss: 2.0202\n",
            "Epoch [9/10], Step [900/3007], Loss: 1.8872\n",
            "Epoch [9/10], Step [1000/3007], Loss: 1.9753\n",
            "Epoch [9/10], Step [1100/3007], Loss: 1.9455\n",
            "Epoch [9/10], Step [1200/3007], Loss: 1.9981\n",
            "Epoch [9/10], Step [1300/3007], Loss: 2.1033\n",
            "Epoch [9/10], Step [1400/3007], Loss: 2.0102\n",
            "Epoch [9/10], Step [1500/3007], Loss: 1.9216\n",
            "Epoch [9/10], Step [1600/3007], Loss: 2.0703\n",
            "Epoch [9/10], Step [1700/3007], Loss: 2.1369\n",
            "Epoch [9/10], Step [1800/3007], Loss: 2.0035\n",
            "Epoch [9/10], Step [1900/3007], Loss: 1.9697\n",
            "Epoch [9/10], Step [2000/3007], Loss: 2.1726\n",
            "Epoch [9/10], Step [2100/3007], Loss: 2.1094\n",
            "Epoch [9/10], Step [2200/3007], Loss: 2.0503\n",
            "Epoch [9/10], Step [2300/3007], Loss: 2.0558\n",
            "Epoch [9/10], Step [2400/3007], Loss: 2.1294\n",
            "Epoch [9/10], Step [2500/3007], Loss: 1.9630\n",
            "Epoch [9/10], Step [2600/3007], Loss: 2.1728\n",
            "Epoch [9/10], Step [2700/3007], Loss: 2.0777\n",
            "Epoch [9/10], Step [2800/3007], Loss: 2.2083\n",
            "Epoch [9/10], Step [2900/3007], Loss: 2.2245\n",
            "Epoch [9/10], Step [3000/3007], Loss: 2.3632\n",
            "Epoch [10/10], Step [0/3007], Loss: 1.8668\n",
            "Epoch [10/10], Step [100/3007], Loss: 1.6873\n",
            "Epoch [10/10], Step [200/3007], Loss: 1.8353\n",
            "Epoch [10/10], Step [300/3007], Loss: 1.8878\n",
            "Epoch [10/10], Step [400/3007], Loss: 1.8502\n",
            "Epoch [10/10], Step [500/3007], Loss: 1.7004\n",
            "Epoch [10/10], Step [600/3007], Loss: 1.9261\n",
            "Epoch [10/10], Step [700/3007], Loss: 1.9709\n",
            "Epoch [10/10], Step [800/3007], Loss: 1.8460\n",
            "Epoch [10/10], Step [900/3007], Loss: 2.0150\n",
            "Epoch [10/10], Step [1000/3007], Loss: 2.0052\n",
            "Epoch [10/10], Step [1100/3007], Loss: 2.0013\n",
            "Epoch [10/10], Step [1200/3007], Loss: 1.9888\n",
            "Epoch [10/10], Step [1300/3007], Loss: 1.8511\n",
            "Epoch [10/10], Step [1400/3007], Loss: 1.9704\n",
            "Epoch [10/10], Step [1500/3007], Loss: 1.9814\n",
            "Epoch [10/10], Step [1600/3007], Loss: 2.0357\n",
            "Epoch [10/10], Step [1700/3007], Loss: 2.0386\n",
            "Epoch [10/10], Step [1800/3007], Loss: 1.9263\n",
            "Epoch [10/10], Step [1900/3007], Loss: 1.9927\n",
            "Epoch [10/10], Step [2000/3007], Loss: 2.1269\n",
            "Epoch [10/10], Step [2100/3007], Loss: 1.9552\n",
            "Epoch [10/10], Step [2200/3007], Loss: 2.0357\n",
            "Epoch [10/10], Step [2300/3007], Loss: 2.0498\n",
            "Epoch [10/10], Step [2400/3007], Loss: 1.9631\n",
            "Epoch [10/10], Step [2500/3007], Loss: 2.1571\n",
            "Epoch [10/10], Step [2600/3007], Loss: 2.0457\n",
            "Epoch [10/10], Step [2700/3007], Loss: 2.0488\n",
            "Epoch [10/10], Step [2800/3007], Loss: 2.0720\n",
            "Epoch [10/10], Step [2900/3007], Loss: 2.1995\n",
            "Epoch [10/10], Step [3000/3007], Loss: 2.2006\n"
          ]
        }
      ]
    },
    {
      "cell_type": "code",
      "source": [
        "torch.save(encoder.state_dict(), '/content/drive/MyDrive/ImageCaptioningDataset/encoder3.pt')"
      ],
      "metadata": {
        "id": "DN4xkuG0SB2F"
      },
      "execution_count": 17,
      "outputs": []
    },
    {
      "cell_type": "code",
      "source": [
        "torch.save(decoder.state_dict(), '/content/drive/MyDrive/ImageCaptioningDataset/decoder3.pt')"
      ],
      "metadata": {
        "id": "0ysTktxKSRo_"
      },
      "execution_count": 18,
      "outputs": []
    },
    {
      "cell_type": "code",
      "source": [
        "embed_size = 256\n",
        "hidden_size = 512\n",
        "\n",
        "device = torch.device(\"cuda\" if torch.cuda.is_available() else \"cpu\")\n",
        "device = torch.device('mps') if torch.backends.mps.is_available() else device\n",
        "\n",
        "encoder = Encoder(embed_size)\n",
        "decoder = Decoder(embed_size, hidden_size, vocab_size)\n",
        "encoder.load_state_dict(torch.load('/content/drive/MyDrive/ImageCaptioningDataset/encoder3.pt'))\n",
        "decoder.load_state_dict(torch.load('/content/drive/MyDrive/ImageCaptioningDataset/decoder3.pt'))\n",
        "encoder.to(device)\n",
        "decoder.to(device)"
      ],
      "metadata": {
        "id": "-L0gUb6X1Tra",
        "outputId": "620a87f6-d791-4859-c8a9-5d4093f1107f",
        "colab": {
          "base_uri": "https://localhost:8080/"
        }
      },
      "execution_count": 19,
      "outputs": [
        {
          "output_type": "execute_result",
          "data": {
            "text/plain": [
              "Decoder(\n",
              "  (embedding): Embedding(20205, 256, padding_idx=0)\n",
              "  (lstm): LSTM(256, 512, batch_first=True)\n",
              "  (attention): Linear(in_features=256, out_features=256, bias=True)\n",
              "  (fc): Linear(in_features=512, out_features=20205, bias=True)\n",
              ")"
            ]
          },
          "metadata": {},
          "execution_count": 19
        }
      ]
    },
    {
      "cell_type": "code",
      "source": [
        "def inference_function(image):\n",
        "  encoder.eval()\n",
        "  decoder.eval()\n",
        "\n",
        "  features = encoder(image)\n",
        "\n",
        "  caption = [dataset.vocab['<SOS>']]\n",
        "  with torch.no_grad():\n",
        "    while len(caption) < dataset.target_len and caption[-1] != dataset.vocab['<EOS>']:\n",
        "      # features = features.to(device, dtype=torch.float)\n",
        "      captions = torch.tensor(caption).unsqueeze(0).to(device)\n",
        "      #print(captions[0])\n",
        "      outputs = decoder(features, captions)\n",
        "      #print(outputs.argmax(2))\n",
        "      _, pred_words = torch.max(outputs,2)\n",
        "      pred_words = pred_words.cpu().numpy()\n",
        "      caption.append(pred_words[-1][-1])\n",
        "  i = 0\n",
        "  full_caption = []\n",
        "  for idx in caption:\n",
        "    if dataset.vocab.lookup_token(idx) not in ['<PAD','<SOS>','<EOS>']:\n",
        "      #print(dataset.vocab.lookup_token(idx))\n",
        "      full_caption.append(dataset.vocab.lookup_token(idx))\n",
        "      i += 1\n",
        "  #full_caption = [dataset.vocab.lookup_token(idx) for idx in caption if dataset.vocab.lookup_token(idx) not in ['<PAD','<SOS>','<EOS>']]\n",
        "  return full_caption"
      ],
      "metadata": {
        "id": "lftWJ91r1m6b"
      },
      "execution_count": 20,
      "outputs": []
    },
    {
      "cell_type": "code",
      "source": [
        "k = 1000\n",
        "normal_image = dataset[k][0]\n",
        "image = dataset[k][0].unsqueeze(0)\n",
        "image = image.to(device, dtype=torch.float)\n",
        "full_caption = inference_function(image)"
      ],
      "metadata": {
        "id": "4YXANGML47OF"
      },
      "execution_count": 79,
      "outputs": []
    },
    {
      "cell_type": "code",
      "source": [
        "full_caption"
      ],
      "metadata": {
        "id": "9rxUvxdL5t5Q",
        "outputId": "8e6ca9a4-213c-4aec-f344-b9f50774b0d2",
        "colab": {
          "base_uri": "https://localhost:8080/"
        }
      },
      "execution_count": 80,
      "outputs": [
        {
          "output_type": "execute_result",
          "data": {
            "text/plain": [
              "['two', 'dogs', 'are', 'running', 'on', 'the', 'beach']"
            ]
          },
          "metadata": {},
          "execution_count": 80
        }
      ]
    },
    {
      "cell_type": "code",
      "source": [
        "plt.figure()\n",
        "plt.imshow(normal_image.permute(1, 2, 0))\n",
        "' '.join(full_caption)"
      ],
      "metadata": {
        "id": "vJTmqRK7_T-K",
        "outputId": "d30224aa-9ab5-4533-c3e1-f6e9f8e61104",
        "colab": {
          "base_uri": "https://localhost:8080/",
          "height": 469
        }
      },
      "execution_count": 81,
      "outputs": [
        {
          "output_type": "stream",
          "name": "stderr",
          "text": [
            "WARNING:matplotlib.image:Clipping input data to the valid range for imshow with RGB data ([0..1] for floats or [0..255] for integers).\n"
          ]
        },
        {
          "output_type": "execute_result",
          "data": {
            "text/plain": [
              "'two dogs are running on the beach'"
            ],
            "application/vnd.google.colaboratory.intrinsic+json": {
              "type": "string"
            }
          },
          "metadata": {},
          "execution_count": 81
        },
        {
          "output_type": "display_data",
          "data": {
            "text/plain": [
              "<Figure size 640x480 with 1 Axes>"
            ],
            "image/png": "[encoded data removed]"
          },
          "metadata": {}
        }
      ]
    },
    {
      "cell_type": "code",
      "source": [
        "class ImageCaptioningModel(nn.Module):\n",
        "    def __init__(self, embed_size, hidden_size, vocab_size):\n",
        "        super(ImageCaptioningModel, self).__init__()\n",
        "        \n",
        "        # Load the pretrained ResNet-101 model\n",
        "        self.resnet = models.wide_resnet50_2(weights=None)\n",
        "        self.resnet.fc = nn.Linear(2048, embed_size)\n",
        "        self.dropout = nn.Dropout(p=0.5)\n",
        "\n",
        "        self.embedding = nn.Embedding(vocab_size, embed_size, padding_idx=dataset.vocab['<PAD>'])\n",
        "        self.lstm = nn.LSTM(embed_size, hidden_size, batch_first=True)\n",
        "        self.attention = nn.Linear(embed_size,embed_size)\n",
        "        self.fc = nn.Linear(hidden_size, vocab_size)\n",
        "\n",
        "    def forward(self, images, captions):\n",
        "\n",
        "        features = self.resnet(images)\n",
        "        features = features.unsqueeze(1)\n",
        "        features = self.dropout(features)\n",
        "\n",
        "        embeddings = self.embedding(captions)\n",
        "\n",
        "        combined = torch.cat((features, embeddings), dim=1)\n",
        "\n",
        "        attention_weights = torch.softmax(self.attention(combined), dim=1)\n",
        "        attention_encoding = torch.sum(combined * attention_weights, dim=1)\n",
        "\n",
        "        lstm_out, _ = self.lstm(combined)\n",
        "\n",
        "        outputs = self.fc(lstm_out)\n",
        "\n",
        "\n",
        "        return outputs"
      ],
      "metadata": {
        "id": "6vCRizEKHyg0"
      },
      "execution_count": 24,
      "outputs": []
    },
    {
      "cell_type": "code",
      "source": [
        "embed_size = 256  # Size of the word embedding\n",
        "hidden_size = 512  # Size of the LSTM hidden state\n",
        "\n",
        "device = torch.device(\"cuda\" if torch.cuda.is_available() else \"cpu\")\n",
        "device = torch.device('mps') if torch.backends.mps.is_available() else device\n",
        "\n",
        "model = ImageCaptioningModel(embed_size, hidden_size, vocab_size).to(device)"
      ],
      "metadata": {
        "id": "v04TdT8KIShA"
      },
      "execution_count": 25,
      "outputs": []
    },
    {
      "cell_type": "code",
      "source": [
        "def mixup(x, y, a):\n",
        "    lam = np.random.beta(a,a)\n",
        "    rand = torch.randperm(batch_size)\n",
        "    x2 = x[rand,:]\n",
        "    y2 = y[rand,:]\n",
        "    X = lam * x + (1 - lam) * x2\n",
        "    Y = lam * y + (1 - lam) * y2\n",
        "    #print(Y)\n",
        "    return X, Y\n",
        "\n",
        "def cutout(image, k):\n",
        "    x = np.random.randint(0, 128-k)\n",
        "    y = np.random.randint(0, 128-k)\n",
        "    image[:, x:x+k, y:y+k] = 0\n",
        "    return image\n",
        "\n",
        "def standard_augmentation(image,k):\n",
        "    k1 = np.random.randint(-k, k)\n",
        "    k2 = np.random.randint(-k, k)\n",
        "    image = np.roll(image, k1, axis=1)\n",
        "    image = np.roll(image, k2, axis=2)\n",
        "    if (k1 > 0):    \n",
        "        image[:, :k1, :] = 0\n",
        "    else:\n",
        "        image[:, k1:, :] = 0\n",
        "    if (k2 > 0):\n",
        "        image[:, :, :k2] = 0\n",
        "    else:\n",
        "        image[:, :, k2:] = 0\n",
        "    if (np.random.rand() < 0.5):\n",
        "        image = np.flip(image, axis=2)\n",
        "    return image"
      ],
      "metadata": {
        "id": "4Y9TNrlpu_NE"
      },
      "execution_count": 26,
      "outputs": []
    },
    {
      "cell_type": "code",
      "source": [
        "criterion = nn.CrossEntropyLoss(ignore_index=dataset.vocab['<PAD>'])\n",
        "optimizer = torch.optim.Adam(model.parameters(), lr=0.001)\n",
        "num_epochs = 10\n",
        "\n",
        "def training():\n",
        "  for epoch in range(num_epochs):\n",
        "      i = 0\n",
        "      copy_train_loader = deepcopy(train_loader)\n",
        "      for images, captions in copy_train_loader:\n",
        "          for j in range(len(images)):\n",
        "            if (np.random.rand() < 0.5):\n",
        "              images[j] = cutout(images[j], 64)\n",
        "            images[j] = torch.from_numpy(standard_augmentation(images[j],16).copy())\n",
        "          #images, captions = mixup(images, captions, 0.4)\n",
        "          images = images.to(device, dtype=torch.float)\n",
        "          captions = captions.to(device)\n",
        "\n",
        "          # Forward pass\n",
        "          # captions[:, :-1]\n",
        "          outputs = model(images, captions[:, :-1])\n",
        "\n",
        "          # Reshape captions for loss calculation\n",
        "          targets = captions[:, :].reshape(-1)\n",
        "          \n",
        "          # Compute loss\n",
        "          loss = criterion(outputs.reshape(-1, vocab_size), targets)\n",
        "\n",
        "          # Backward pass and optimization\n",
        "          optimizer.zero_grad()\n",
        "          loss.backward()\n",
        "          optimizer.step()\n",
        "\n",
        "          # Print the loss\n",
        "          if i % 100 == 0:\n",
        "            print('Epoch [{}/{}], Step [{}/{}], Loss: {:.4f}'.format(epoch+1, num_epochs, i, len(train_loader), loss.item()))\n",
        "          i+=1\n",
        "\n",
        "#model.load_state_dict(torch.load('/content/drive/MyDrive/ImageCaptioningDataset/model_path.pt'), strict=False)\n",
        "#training()"
      ],
      "metadata": {
        "id": "v3eCeIOEIjTI"
      },
      "execution_count": 27,
      "outputs": []
    },
    {
      "cell_type": "code",
      "source": [
        "#model.load_state_dict(torch.load('/content/drive/MyDrive/ImageCaptioningDataset/model_path.pt'), strict=False)"
      ],
      "metadata": {
        "id": "umYg9GvvPeGr"
      },
      "execution_count": 28,
      "outputs": []
    },
    {
      "cell_type": "code",
      "source": [
        "normal_image = dataset[0][0]\n",
        "image = dataset[0][0].unsqueeze(0)\n",
        "caption = dataset[0][1].unsqueeze(0)\n",
        "image = image.to(device, dtype=torch.float)\n",
        "caption = caption.to(device)"
      ],
      "metadata": {
        "id": "W_lfCl54RXuW"
      },
      "execution_count": 29,
      "outputs": []
    },
    {
      "cell_type": "code",
      "source": [
        "model.eval()\n",
        "with torch.no_grad():\n",
        "  outputs = model(image,caption)\n",
        "  _,preds = torch.max(outputs,2)"
      ],
      "metadata": {
        "id": "fJcMPk-URYHG"
      },
      "execution_count": 30,
      "outputs": []
    },
    {
      "cell_type": "code",
      "source": [
        "translated_preds = []\n",
        "for _,num in enumerate(preds[0]):\n",
        "  idx = num.item()\n",
        "  if idx not in dataset.vocab.lookup_indices(['<PAD>','<SOS>','<EOS>']):\n",
        "    translated_preds.append(dataset.vocab.lookup_token(idx))\n",
        "\n",
        "pred_caption = ' '.join(translated_preds)\n",
        "print(pred_caption)"
      ],
      "metadata": {
        "id": "unt9VMcIS9mt",
        "outputId": "4c9a49b2-403f-409b-c0c0-2aba6e76ab60",
        "colab": {
          "base_uri": "https://localhost:8080/"
        }
      },
      "execution_count": 31,
      "outputs": [
        {
          "output_type": "stream",
          "name": "stdout",
          "text": [
            "dominance 3d combatants apprentice reacts stewart pastels mesh-like tips undressed nerdy two-way pie-filling hoyt dumps rides sends stange flying sports speedway speedway foot- wiht wiht smiley smiley smiley smiley smiley smiley smiley smiley smiley smiley smiley smiley smiley smiley smiley smiley smiley smiley smiley smiley smiley smiley smiley smiley smiley smiley smiley smiley smiley smiley smiley smiley smiley smiley smiley smiley smiley smiley smiley smiley smiley smiley smiley smiley smiley smiley smiley smiley smiley smiley\n"
          ]
        }
      ]
    },
    {
      "cell_type": "code",
      "source": [
        "translated_caption = []\n",
        "for _,num in enumerate(caption[0]):\n",
        "  idx = num.item()\n",
        "  if idx not in dataset.vocab.lookup_indices(['<PAD>','<SOS>','<EOS>']):\n",
        "    translated_caption.append(dataset.vocab.lookup_token(idx))"
      ],
      "metadata": {
        "id": "nyuuJu-2TMIw"
      },
      "execution_count": 32,
      "outputs": []
    },
    {
      "cell_type": "code",
      "source": [
        "bleu_score(translated_preds[:17],translated_caption)"
      ],
      "metadata": {
        "id": "uigTTKFLTB1I",
        "outputId": "7d345cd3-ee30-47cd-b09a-f4c4bdf7bd83",
        "colab": {
          "base_uri": "https://localhost:8080/",
          "height": 287
        }
      },
      "execution_count": 33,
      "outputs": [
        {
          "output_type": "error",
          "ename": "AssertionError",
          "evalue": "ignored",
          "traceback": [
            "\u001b[0;31m---------------------------------------------------------------------------\u001b[0m",
            "\u001b[0;31mAssertionError\u001b[0m                            Traceback (most recent call last)",
            "\u001b[0;32m<ipython-input-33-706b3177f79e>\u001b[0m in \u001b[0;36m<cell line: 1>\u001b[0;34m()\u001b[0m\n\u001b[0;32m----> 1\u001b[0;31m \u001b[0mbleu_score\u001b[0m\u001b[0;34m(\u001b[0m\u001b[0mtranslated_preds\u001b[0m\u001b[0;34m[\u001b[0m\u001b[0;34m:\u001b[0m\u001b[0;36m17\u001b[0m\u001b[0;34m]\u001b[0m\u001b[0;34m,\u001b[0m\u001b[0mtranslated_caption\u001b[0m\u001b[0;34m)\u001b[0m\u001b[0;34m\u001b[0m\u001b[0;34m\u001b[0m\u001b[0m\n\u001b[0m",
            "\u001b[0;32m/usr/local/lib/python3.10/dist-packages/torchtext/data/metrics.py\u001b[0m in \u001b[0;36mbleu_score\u001b[0;34m(candidate_corpus, references_corpus, max_n, weights)\u001b[0m\n\u001b[1;32m     54\u001b[0m \u001b[0;34m\u001b[0m\u001b[0m\n\u001b[1;32m     55\u001b[0m     \u001b[0;32massert\u001b[0m \u001b[0mmax_n\u001b[0m \u001b[0;34m==\u001b[0m \u001b[0mlen\u001b[0m\u001b[0;34m(\u001b[0m\u001b[0mweights\u001b[0m\u001b[0;34m)\u001b[0m\u001b[0;34m,\u001b[0m \u001b[0;34m'Length of the \"weights\" list has be equal to max_n'\u001b[0m\u001b[0;34m\u001b[0m\u001b[0;34m\u001b[0m\u001b[0m\n\u001b[0;32m---> 56\u001b[0;31m     assert len(candidate_corpus) == len(\n\u001b[0m\u001b[1;32m     57\u001b[0m         \u001b[0mreferences_corpus\u001b[0m\u001b[0;34m\u001b[0m\u001b[0;34m\u001b[0m\u001b[0m\n\u001b[1;32m     58\u001b[0m     ), \"The length of candidate and reference corpus should be the same\"\n",
            "\u001b[0;31mAssertionError\u001b[0m: The length of candidate and reference corpus should be the same"
          ]
        }
      ]
    },
    {
      "cell_type": "code",
      "source": [
        "plt.figure()\n",
        "plt.imshow(normal_image.permute(1, 2, 0))\n",
        "print(pred_caption)"
      ],
      "metadata": {
        "id": "H3gNp2TbXp7C"
      },
      "execution_count": null,
      "outputs": []
    },
    {
      "cell_type": "code",
      "source": [
        "#torch.save(model.state_dict(), '/content/drive/MyDrive/ImageCaptioningDataset/model_UPDATED_2.pt')"
      ],
      "metadata": {
        "id": "kjt2WuekBHj9"
      },
      "execution_count": null,
      "outputs": []
    }
  ]
}